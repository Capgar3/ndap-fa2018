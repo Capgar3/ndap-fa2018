{
 "cells": [
  {
   "cell_type": "markdown",
   "metadata": {},
   "source": [
    "# Neuro Data Analysis in Python: Problem Set 1\n",
    "\n",
    "This is the first problem set. It has 7 problems, worth a total of 60 points. It is due before class (i.e. by 10:59 AM) on 9/21/2018. For late policy please see [the syllabus](https://github.com/alexhuth/ndap-fa2018/blob/master/README.md#late-homework--extension-policy). Partial credit will be awarded for partially correct solutions. Three of the seven problems include bonus exercises worth 1 point each, so the maximum score on this problem set is 63/60.\n",
    "\n",
    "## How to use this notebook\n",
    "\n",
    "For problem 1, fix the code errors in each cell. For problems 2-7 you need to write code to complete a function. Wherever it says `### YOUR CODE HERE ###`, fill that in with your code. Please run your code to verify that it works.\n",
    "\n",
    "## Homework submission\n",
    "\n",
    "When you've finished, rename the notebook file to `problemset1-YOUREID.ipynb`. For example, if your EID is `ab12345`, you should call it `problemset1-ab12345.ipynb`. Then submit the ipynb file on Canvas. **The submission must be received by 10:59 AM on 9/21/2018 for you to get full credit.**"
   ]
  },
  {
   "cell_type": "markdown",
   "metadata": {},
   "source": [
    "# Problem 1. (10 points, 1 point each)\n",
    "Fix the error in each piece of code, and run the code to make sure it outputs the correct thing. Pay attention to what the comment says the code should do (anything after a `#` is a comment and is not executed as code)."
   ]
  },
  {
   "cell_type": "code",
   "execution_count": null,
   "metadata": {},
   "outputs": [],
   "source": [
    "my_list = list(range(42))\n",
    "\n",
    "# get the 4th element of this list\n",
    "\n",
    "my_list(3)"
   ]
  },
  {
   "cell_type": "code",
   "execution_count": null,
   "metadata": {},
   "outputs": [],
   "source": [
    "my_list = list(range(42))\n",
    "\n",
    "# find the length of this list\n",
    "\n",
    "length(my_list)"
   ]
  },
  {
   "cell_type": "code",
   "execution_count": null,
   "metadata": {},
   "outputs": [],
   "source": [
    "my_list = list(range(42))\n",
    "\n",
    "# print the square of each number\n",
    "for n in my_list:\n",
    "    print(n * 2)"
   ]
  },
  {
   "cell_type": "code",
   "execution_count": null,
   "metadata": {},
   "outputs": [],
   "source": [
    "my_list = list(range(42))\n",
    "\n",
    "# print each number plus one\n",
    "for n in mylist:\n",
    "    print(n + 1)"
   ]
  },
  {
   "cell_type": "code",
   "execution_count": null,
   "metadata": {},
   "outputs": [],
   "source": [
    "my_list = list(range(42))\n",
    "\n",
    "# sum up all the numbers in the list\n",
    "for n in my_list:\n",
    "    total = 0\n",
    "    total += n"
   ]
  },
  {
   "cell_type": "code",
   "execution_count": null,
   "metadata": {},
   "outputs": [],
   "source": [
    "my_list = list(range(42))\n",
    "\n",
    "# get the last element of the list\n",
    "\n",
    "my_list[42]"
   ]
  },
  {
   "cell_type": "code",
   "execution_count": null,
   "metadata": {},
   "outputs": [],
   "source": [
    "my_list = list(range(42))\n",
    "\n",
    "# print each number plus one\n",
    "for n in my_list\n",
    "    print(n + 1)"
   ]
  },
  {
   "cell_type": "code",
   "execution_count": null,
   "metadata": {},
   "outputs": [],
   "source": [
    "# print the number that is 1 higher than val\n",
    "val = 7\n",
    "print(val) + 1"
   ]
  },
  {
   "cell_type": "code",
   "execution_count": null,
   "metadata": {},
   "outputs": [],
   "source": [
    "my_dict = dict(key=1, other_key=2)\n",
    "\n",
    "# get the value for the key \"key\" in my_dict\n",
    "\n",
    "my_dict(key)"
   ]
  },
  {
   "cell_type": "code",
   "execution_count": null,
   "metadata": {},
   "outputs": [],
   "source": [
    "my_list = list(range(5))\n",
    "\n",
    "# append 6 to the end of my_list\n",
    "\n",
    "my_list += 6"
   ]
  },
  {
   "cell_type": "markdown",
   "metadata": {},
   "source": [
    "# Problem 2. (10 points)\n",
    "In lecture 4 we talked about how to load a set of video labels from a text file. Each line of the file contains the index of a video clip, the name of the video gif filename (you don't have these actual files, but don't worry about it), and then a list of labels. We loaded the labels into a `list` of `dict`s. Each element in the `list` is a `dict` that contains the information about one video clip (the `index`, the `gif_file`, and the list of `labels`).\n",
    "\n",
    "Now, suppose that you are doing an analysis where you need to be able to find all the indices that correspond to each label. To do this, you need to re-arrange the data.\n",
    "\n",
    "Write a function `find_indices_for_labels` that creates a `dict` where each key is a label and the value is the list of indices for clips that contained that label.\n",
    "\n",
    "For example, the resulting `dict` should have the key `\"gift.n.01\"` with the value `[17,18,19,20]`.\n",
    "\n",
    "**Bonus:** +1 point if you can write this function in one line of code using only the functions/types that you have learned about. (I am not 100% certain this is possible, but it might be interesting.)"
   ]
  },
  {
   "cell_type": "code",
   "execution_count": null,
   "metadata": {},
   "outputs": [],
   "source": [
    "def parse_labels(filename):\n",
    "    \"\"\"Load labels from the file specified in filename.\n",
    "    \n",
    "    Assumes that each line of the file is whitespace-delimited, and has this\n",
    "    structure:\n",
    "      index gif_file label label label label ...\n",
    "    with an arbitrary number of labels per line.\n",
    "\n",
    "    Returns a list of dictionaries, where each contains the keys \"index\",\n",
    "    \"labels\" (which returns a list of labels), and \"gif_file\".\n",
    "    \"\"\"\n",
    "    f = open(filename)\n",
    "\n",
    "    labels = [] # create an empty list\n",
    "    for line in f:\n",
    "        words = line.split() # split the line into words\n",
    "\n",
    "        line_dict = dict(index=int(words[0]), # create a dict from words\n",
    "                         gif_file=words[1],\n",
    "                         labels=words[2:])\n",
    "        \n",
    "        labels.append(line_dict) # append dict to the complete list\n",
    "    \n",
    "    return labels\n",
    "\n",
    "# load the labels\n",
    "labels = parse_labels(\"labels.txt\")\n",
    "\n",
    "def find_indices_for_labels(labels):\n",
    "    ### YOUR CODE HERE ###"
   ]
  },
  {
   "cell_type": "markdown",
   "metadata": {},
   "source": [
    "# Problem 3. (10 points)\n",
    "Now that you've finished re-arranging the list of labels into a dictionary, you realize that what you _actually_ need is indicator variables. For each label, create a list that has one element for every index (each list should be length 7200). The value of each element should be `True` if that index corresponds to a video clip that contains that label, and `False` otherwise. The output should be a dictionary where the keys are labels and the values are the indicator variable lists.\n",
    "\n",
    "For example, `output['gift.n.01']` should look like `[False, False, False, ...]` with only four `True`'s.\n",
    "\n",
    "You can start from either the list of dictionaries (created by `parse_labels`), or the dictionary of lists (created by `find_indices_for_labels`) (if you trust your own code, that is)."
   ]
  },
  {
   "cell_type": "code",
   "execution_count": null,
   "metadata": {},
   "outputs": [],
   "source": [
    "def make_label_indicators(rename_this_input):\n",
    "    ### YOUR CODE HERE ###"
   ]
  },
  {
   "cell_type": "markdown",
   "metadata": {},
   "source": [
    "# Problem 4. (10 points)\n",
    "One important tool for text analysis is the word frequency counter, in which we store the number of times each word is used in a text document. \n",
    "\n",
    "You are given the name of the text file (`filename`) and a list of words (`words`). Write a function `word_frequency_counter` that outputs a list of numbers corresponding to the frequency of the words in order.\n",
    "For example, if `words` = ['building', 'rose'] and 'building' is referenced twice and 'rose' once, your function should return [2, 1] as the output.\n",
    "\n",
    "Use your word frequency counter to count how many times the words \"of\" and \"kid\" appear in the document `text_file.txt`.\n",
    "\n",
    "*Note:* you may only use functions and data structures that we've spoken about in class: `dict`, `list`, `for`-loops, etc. in solving this problem."
   ]
  },
  {
   "cell_type": "code",
   "execution_count": null,
   "metadata": {},
   "outputs": [],
   "source": [
    "def word_frequency_counter(filename, words):\n",
    "    ### YOUR CODE HERE ###"
   ]
  },
  {
   "cell_type": "code",
   "execution_count": null,
   "metadata": {},
   "outputs": [],
   "source": [
    "# test:\n",
    "counts = word_frequency_counter(\"text_file.txt\", [\"of\", \"kid\"])\n",
    "print(counts)\n",
    "# should produce: [44, 5]"
   ]
  },
  {
   "cell_type": "markdown",
   "metadata": {},
   "source": [
    "# Problem 5. (5 points)\n",
    "Now imagine that you are helping the professor with keeping record of the students in the class. We have 2 separate lists, one with the names of the students and the other having their respective UIDs. It would be more convenient to combine these two lists into a dictionary.\n",
    "\n",
    "Write a function `student_records_dict` that takes in the `names` and `UIDs` and gives a `dict` of name-UID pair. For example, if `names` = ['Alex', 'Bill'] and `UIDs` = ['al324345', 'bi345476'], then the function should return {'Alex' : 'al324345', 'Bill' : 'bi345476'}\n",
    "\n",
    "**Bonus:** +1 bonus point if you can do this in one line of code."
   ]
  },
  {
   "cell_type": "code",
   "execution_count": null,
   "metadata": {},
   "outputs": [],
   "source": [
    "#You can assume names and UIDs to be of the same length\n",
    "def student_records_dict(names, UIDs):\n",
    "    ### YOUR CODE HERE ###"
   ]
  },
  {
   "cell_type": "code",
   "execution_count": null,
   "metadata": {},
   "outputs": [],
   "source": [
    "# test:\n",
    "test_names = ['alex', 'bill', 'manu']\n",
    "test_uids = ['al239048', 'bi109238', 'ma190238']\n",
    "print(student_records_dict(test_names, test_uids))\n",
    "# should produce: {'alex': 'al239048', 'bill': 'bi109238', 'manu': 'ma190238'}"
   ]
  },
  {
   "cell_type": "markdown",
   "metadata": {},
   "source": [
    "# Problem 6. (5 points)\n",
    "\n",
    "The [dot product](https://en.wikipedia.org/wiki/Dot_product) between two vectors (lists of numbers) is the sum of the products of each corresponding pair. E.g. the dot product of `[1,2,3]` and `[5, 10, 15]` is `1*5 + 2*10 + 3*15`.\n",
    "\n",
    "Write a function `dot_product(a,b)` that computes the dot product between two lists of numbers `a` and `b`. You may only use functions and data structures that we've spoken about in class (e.g. `list` and `zip`). No numpy!\n",
    "\n",
    "**Bonus:** +1 bonus point if your function checks that (1) `a` and `b` are the same size, and (2) checks that all the elements of `a` and `b` are numbers that can be multiplied, and `raise`s understandable errors if not."
   ]
  },
  {
   "cell_type": "code",
   "execution_count": null,
   "metadata": {},
   "outputs": [],
   "source": [
    "def dot_product(a,b):\n",
    "    ### YOUR CODE HERE ###"
   ]
  },
  {
   "cell_type": "code",
   "execution_count": null,
   "metadata": {},
   "outputs": [],
   "source": [
    "# test:\n",
    "test_a = list(range(100))\n",
    "test_b = test_a[::-1]\n",
    "print(dot_product(test_a, test_b))\n",
    "# should produce: 161700"
   ]
  },
  {
   "cell_type": "markdown",
   "metadata": {},
   "source": [
    "# Problem 7. (10 points)\n",
    "\n",
    "[Matrix multiplication](https://en.wikipedia.org/wiki/Matrix_multiplication) is an operation in linear algebra where two matrices are multiplied together to make a new matrix. If you are multiplying `A * B`, where `A` is $n$ by $m$ (i.e. has $n$ rows and $m$ columns) and `B` is $m$ by $p$, then the product `C = A * B` is an $n$ by $p$ matrix. Each element of `C` is the dot product between one row of `A` and one column of `B`. For example, `C[i][j]` (the element in row $i$ and column $j$) is the dot product between row $i$ of `A` and column $j$ of `B`.\n",
    "\n",
    "Write a function that does matrix multiplication. Feel free to use your dot product function from problem 6 if that helps. You may only use things we've spoken about in class: `list`s, `zip`, etc. No numpy!"
   ]
  },
  {
   "cell_type": "code",
   "execution_count": null,
   "metadata": {},
   "outputs": [],
   "source": [
    "def matrix_multiply(A, B):\n",
    "    ### YOUR CODE HERE ###"
   ]
  },
  {
   "cell_type": "code",
   "execution_count": null,
   "metadata": {},
   "outputs": [],
   "source": [
    "# test:\n",
    "test_A = [[1, 2, 3], [4, 5, 6]] # a 2x3 matrix\n",
    "test_B = [[1, 2], [3, 4], [5, 6]] # a 3x2 matrix\n",
    "print(matrix_multiply(test_A, test_B))\n",
    "# should produce: [[22, 28], [49, 64]]"
   ]
  }
 ],
 "metadata": {
  "kernelspec": {
   "display_name": "Python 2",
   "language": "python",
   "name": "python2"
  },
  "language_info": {
   "codemirror_mode": {
    "name": "ipython",
    "version": 2
   },
   "file_extension": ".py",
   "mimetype": "text/x-python",
   "name": "python",
   "nbconvert_exporter": "python",
   "pygments_lexer": "ipython2",
   "version": "2.7.11"
  }
 },
 "nbformat": 4,
 "nbformat_minor": 2
}
